{
  "nbformat": 4,
  "nbformat_minor": 0,
  "metadata": {
    "colab": {
      "provenance": [],
      "authorship_tag": "ABX9TyMplDkYlb7fo0u226d+lXT+",
      "include_colab_link": true
    },
    "kernelspec": {
      "name": "python3",
      "display_name": "Python 3"
    },
    "language_info": {
      "name": "python"
    }
  },
  "cells": [
    {
      "cell_type": "markdown",
      "metadata": {
        "id": "view-in-github",
        "colab_type": "text"
      },
      "source": [
        "<a href=\"https://colab.research.google.com/github/KaledHP302/programacion-basica-302/blob/main/ActLab%20302/ActLab1/ActLab1.ipynb\" target=\"_parent\"><img src=\"https://colab.research.google.com/assets/colab-badge.svg\" alt=\"Open In Colab\"/></a>"
      ]
    },
    {
      "cell_type": "markdown",
      "source": [
        "Actividad de laboratorio 1 imprecion de mensajes"
      ],
      "metadata": {
        "id": "08XEbRp8xf07"
      }
    },
    {
      "cell_type": "markdown",
      "source": [
        "PB302_1.cpp Programa de Bienvenida"
      ],
      "metadata": {
        "id": "18gGX_7smnf1"
      }
    },
    {
      "cell_type": "code",
      "execution_count": null,
      "metadata": {
        "colab": {
          "base_uri": "https://localhost:8080/"
        },
        "id": "7OPcFMa3liaf",
        "outputId": "aa36e9a4-e5b1-4708-fa34-1695788f4925"
      },
      "outputs": [
        {
          "output_type": "stream",
          "name": "stdout",
          "text": [
            "Overwriting PB302_1.cpp\n"
          ]
        }
      ],
      "source": [
        "%%writefile PB302_1.cpp\n",
        "//programa para imprimir mensaje de bienvenida\n",
        "// creado por Kaled Huerta Perez\n",
        "//15/septiembre/2025\n",
        "//PB302_1.cpp\n",
        "#include <iostream>\n",
        "using namespace std;\n",
        "int main()\n",
        "{\n",
        "  cout<<\"Bienvnido Kaled a progamacion basica en C++\\n\";\n",
        "  cout<<\"Gracias por programar en clase\";\n",
        "  return 0;\n",
        "}"
      ]
    },
    {
      "cell_type": "code",
      "source": [
        "!g++ PB302_1.cpp -o PB302_1\n",
        "!./PB302_1"
      ],
      "metadata": {
        "colab": {
          "base_uri": "https://localhost:8080/"
        },
        "id": "CCOkItLfpz7M",
        "outputId": "cc129a0c-2bd3-41a7-e721-1959d79130cf"
      },
      "execution_count": null,
      "outputs": [
        {
          "output_type": "stream",
          "name": "stdout",
          "text": [
            "Bienvnido Kaled a progamacion basica en C++\n",
            "Gracias por programar en clase"
          ]
        }
      ]
    },
    {
      "cell_type": "markdown",
      "source": [
        "PB302_2.cpp programa para imprimir datos personales"
      ],
      "metadata": {
        "id": "JE86D9WVq0Dl"
      }
    },
    {
      "cell_type": "code",
      "source": [
        "%%writefile PB302_2.cpp\n",
        "//programa para imprimir datos personales\n",
        "// creado por Kaled Huerta Perez\n",
        "//18/septiembre/2025\n",
        "//PB302_2.cpp\n",
        "#include <iostream>\n",
        "using namespace std;\n",
        "int main()\n",
        "{\n",
        "  char nombre[10]=\"Kaled\";\n",
        "  char paterno[10]=\"Huerta\";\n",
        "  char materno[10]=\"Perez\";\n",
        "  int edad=18;\n",
        "  char ciudad[10]=\"Juarez\";\n",
        "  char direccion[40]= \"paseo del real 1910-11\";\n",
        "  char fecha[40]= \"02/04/2007\";\n",
        "  cout<<\"Nombre completo es:\\n\";\n",
        "  cout<<nombre<<\"\\n\";\n",
        "  cout<<paterno<<\"\\n\";\n",
        "  cout<<materno<<\"\\n\";\n",
        "  cout<<\"tu edad es:\\n\";\n",
        "  cout<<edad<<\"\\n\";\n",
        "  cout<<\"tu ciudad es:\\n\";\n",
        "  cout<<ciudad<<\"\\n\";\n",
        "  cout<<\"tu direccion es:\\n\";\n",
        "  cout<<direccion<<\"\\n\";\n",
        "  cout<<\"tu fecha de nacimiento es:\\n\";\n",
        "  cout<<fecha<<\"\\n\";\n",
        "  return 0;\n",
        "}"
      ],
      "metadata": {
        "colab": {
          "base_uri": "https://localhost:8080/"
        },
        "id": "g9wmfQh2q-vN",
        "outputId": "72e6004d-1817-4f84-b484-10c68417b8bb"
      },
      "execution_count": 26,
      "outputs": [
        {
          "output_type": "stream",
          "name": "stdout",
          "text": [
            "Overwriting PB302_2.cpp\n"
          ]
        }
      ]
    },
    {
      "cell_type": "code",
      "source": [
        "!g++ PB302_2.cpp -o PB302_2.exe\n",
        "!./PB302_2.exe"
      ],
      "metadata": {
        "colab": {
          "base_uri": "https://localhost:8080/"
        },
        "id": "zforF8TnwlL8",
        "outputId": "432a0f88-3e3d-4513-de72-1b7f69ce06d7"
      },
      "execution_count": 27,
      "outputs": [
        {
          "output_type": "stream",
          "name": "stdout",
          "text": [
            "Nombre completo es:\n",
            "Kaled\n",
            "Huerta\n",
            "Perez\n",
            "tu edad es:\n",
            "18\n",
            "tu ciudad es:\n",
            "Juarez\n",
            "tu direccion es:\n",
            "paseo del real 1910-11\n",
            "tu fecha de nacimiento es:\n",
            "02/04/2007\n"
          ]
        }
      ]
    }
  ]
}