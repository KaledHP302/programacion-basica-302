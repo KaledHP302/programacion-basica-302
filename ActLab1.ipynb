{
  "nbformat": 4,
  "nbformat_minor": 0,
  "metadata": {
    "colab": {
      "provenance": [],
      "authorship_tag": "ABX9TyOSnkb7SxmbzMb7z8MB/RTE",
      "include_colab_link": true
    },
    "kernelspec": {
      "name": "python3",
      "display_name": "Python 3"
    },
    "language_info": {
      "name": "python"
    }
  },
  "cells": [
    {
      "cell_type": "markdown",
      "metadata": {
        "id": "view-in-github",
        "colab_type": "text"
      },
      "source": [
        "<a href=\"https://colab.research.google.com/github/KaledHP302/programacion-basica-302/blob/main/ActLab1.ipynb\" target=\"_parent\"><img src=\"https://colab.research.google.com/assets/colab-badge.svg\" alt=\"Open In Colab\"/></a>"
      ]
    },
    {
      "cell_type": "markdown",
      "source": [
        "Actividad de laboratorio 1 imprecion de mensajes"
      ],
      "metadata": {
        "id": "08XEbRp8xf07"
      }
    },
    {
      "cell_type": "markdown",
      "source": [
        "PB302_1.cpp Programa de Bienvenida"
      ],
      "metadata": {
        "id": "18gGX_7smnf1"
      }
    },
    {
      "cell_type": "code",
      "execution_count": 19,
      "metadata": {
        "colab": {
          "base_uri": "https://localhost:8080/"
        },
        "id": "7OPcFMa3liaf",
        "outputId": "aa36e9a4-e5b1-4708-fa34-1695788f4925"
      },
      "outputs": [
        {
          "output_type": "stream",
          "name": "stdout",
          "text": [
            "Overwriting PB302_1.cpp\n"
          ]
        }
      ],
      "source": [
        "%%writefile PB302_1.cpp\n",
        "//programa para imprimir mensaje de bienvenida\n",
        "// creado por Kaled Huerta Perez\n",
        "//15/septiembre/2025\n",
        "//PB302_1.cpp\n",
        "#include <iostream>\n",
        "using namespace std;\n",
        "int main()\n",
        "{\n",
        "  cout<<\"Bienvnido Kaled a progamacion basica en C++\\n\";\n",
        "  cout<<\"Gracias por programar en clase\";\n",
        "  return 0;\n",
        "}"
      ]
    },
    {
      "cell_type": "code",
      "source": [
        "!g++ PB302_1.cpp -o PB302_1\n",
        "!./PB302_1"
      ],
      "metadata": {
        "colab": {
          "base_uri": "https://localhost:8080/"
        },
        "id": "CCOkItLfpz7M",
        "outputId": "cc129a0c-2bd3-41a7-e721-1959d79130cf"
      },
      "execution_count": 20,
      "outputs": [
        {
          "output_type": "stream",
          "name": "stdout",
          "text": [
            "Bienvnido Kaled a progamacion basica en C++\n",
            "Gracias por programar en clase"
          ]
        }
      ]
    }
  ]
}